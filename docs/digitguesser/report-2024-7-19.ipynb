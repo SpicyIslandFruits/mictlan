{
 "cells": [
  {
   "cell_type": "markdown",
   "metadata": {},
   "source": [
    "# ANN の実装と卒論の修正\n",
    "\n",
    "## 1. 概要\n",
    "\n",
    "ANN を使用して光学デバイスの逆設計を目指している。今回は ANN の基本的なパラメータの意味と作用をしっかりと理解し、今後様々なニューラルネットワークに触れる際にスムーズな理解ができるよう、一度自分で実装しようと考え、設計について検討した。 また、以下のような計画を立てて実行することにした。\n",
    "\n",
    "## 2. やったこと\n",
    "\n",
    "- 以下のような構成でニューラルネットワークを作った\n"
   ]
  },
  {
   "cell_type": "code",
   "execution_count": 2,
   "metadata": {},
   "outputs": [
    {
     "data": {
      "text/html": [
       "<img src=\"https://mermaid.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\"/>"
      ],
      "text/plain": [
       "<IPython.core.display.Image object>"
      ]
     },
     "metadata": {},
     "output_type": "display_data"
    }
   ],
   "source": [
    "import marmaid\n",
    "\n",
    "marmaid.display_file(\"docs/digitguesser/uml.mmd\")"
   ]
  },
  {
   "cell_type": "markdown",
   "metadata": {},
   "source": [
    "## 2. わかったこと\n",
    "\n",
    "- 手書き文字を 80%程度の精度で予測できるモデルができた\n",
    "- 層を増やしても精度が上がらないことがわかった\n",
    "- 普遍近似定理により隠れ層が一つでもシグモイド関数を使用すると任意の連続関数を妥当な精度で近似できることが示されていることがわかった\n",
    "- 最初に決めた Network の構造が処理に対して全く最適化されていないことがわかった\n",
    "- 最適化を行うためには、ネットワークをプロセッサと同様のインターフェースにして、cuDNN の tensor 等の外部サービスを依存性注入できるようにする方が良いとわかった\n"
   ]
  }
 ],
 "metadata": {
  "kernelspec": {
   "display_name": ".venv",
   "language": "python",
   "name": "python3"
  },
  "language_info": {
   "codemirror_mode": {
    "name": "ipython",
    "version": 3
   },
   "file_extension": ".py",
   "mimetype": "text/x-python",
   "name": "python",
   "nbconvert_exporter": "python",
   "pygments_lexer": "ipython3",
   "version": "3.10.12"
  }
 },
 "nbformat": 4,
 "nbformat_minor": 2
}
