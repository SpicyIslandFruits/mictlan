{
 "cells": [
  {
   "cell_type": "markdown",
   "metadata": {},
   "source": [
    "# ANN の実装と卒論の修正\n",
    "\n",
    "## 1. 概要\n",
    "\n",
    "ANN を使用して光学デバイスの逆設計を目指している。今回は ANN の基本的なパラメータの意味と作用をしっかりと理解し、今後様々なニューラルネットワークに触れる際にスムーズな理解ができるよう、一度自分で実装しようと考え、設計について検討した。 また、以下のような計画を立てて実行することにした。\n",
    "\n",
    "## 2. やったこと\n",
    "\n",
    "- 以下のような構成でニューラルネットワークを作った\n"
   ]
  },
  {
   "cell_type": "code",
   "execution_count": 24,
   "metadata": {},
   "outputs": [
    {
     "data": {
      "text/html": [
       "<img src=\"https://mermaid.ink/img/Y2xhc3NEaWFncmFtDQogICAgY2xhc3MgTnVtYmVyIHsNCiAgICAgICAgPDx0eXBlZGVmPj4NCiAgICAgICAgZmxvYXQ2NA0KICAgIH0NCg0KICAgIGNsYXNzIE5ldXJvbiB7DQogICAgICAgIC1iaWFzIE51bWJlcg0KICAgICAgICArQmlhcygpIE51bWJlcg0KICAgICAgICArU2V0QmlhcyhiaWFzIE51bWJlcikNCiAgICB9DQoNCiAgICBjbGFzcyBDb25uZWN0aW9uIHsNCiAgICAgICAgLWZyb20gKk5ldXJvbg0KICAgICAgICAtdG8gKk5ldXJvbg0KICAgICAgICAtd2VpZ2h0IE51bWJlcg0KICAgICAgICArV2VpZ2h0KCkgTnVtYmVyDQogICAgICAgICtBZGp1c3RXZWlnaHQoZGVsdGEgTnVtYmVyKQ0KICAgIH0NCg0KICAgIGNsYXNzIExheWVyIHsNCiAgICAgICAgLW5ldXJvbnMgW10qTmV1cm9uDQogICAgICAgICtOZXVyb25zKCkgW10qTmV1cm9uDQogICAgfQ0KDQogICAgY2xhc3MgTmV0d29yayB7DQogICAgICAgIC1sYXllcnMgW10qTGF5ZXINCiAgICAgICAgLWNvbm5lY3Rpb25zIENvbm5lY3Rpb25zDQogICAgICAgICtMYXllcnMoKSBbXSpMYXllcg0KICAgICAgICArQ29ubmVjdGlvbnMoKSBDb25uZWN0aW9ucw0KICAgICAgICArQ29ubmVjdChpbml0aWFsV2VpZ2h0IC4uLk51bWJlcikNCiAgICAgICAgK0FkanVzdE5ldXJvbkNvbm5lY3Rpb25zKGxheWVySW5kZXggaW50LCBuZXVyb25JbmRleCBpbnQsIHdlaWdodEFkanVzdG1lbnRzIFtdTnVtYmVyKSBlcnJvcg0KICAgIH0NCg0KICAgIGNsYXNzIENvbnRleHR+VH4gew0KICAgICAgICAtYWN0aXZhdGlvbnMgW11MYXllckFjdGl2YXRpb25zDQogICAgICAgICtEYXRhIFQNCiAgICAgICAgK0FjdGl2YXRpb25zKCkgW11MYXllckFjdGl2YXRpb25zDQogICAgICAgICtTZXRBY3RpdmF0aW9ucyhsYXllckluZGV4IGludCwgYWN0aXZhdGlvbnMgTGF5ZXJBY3RpdmF0aW9ucykgZXJyb3INCiAgICB9DQoNCiAgICBjbGFzcyBBZGp1c3RtZW50cyB7DQogICAgICAgIC13ZWlnaHRBZGp1c3RtZW50cyBXZWlnaHRBZGp1c3RtZW50cw0KICAgICAgICAtYmlhc0FkanVzdG1lbnRzIEJpYXNBZGp1c3RtZW50cw0KICAgICAgICArV2VpZ2h0QWRqdXN0bWVudHMoKSBXZWlnaHRBZGp1c3RtZW50cw0KICAgICAgICArQmlhc0FkanVzdG1lbnRzKCkgQmlhc0FkanVzdG1lbnRzDQogICAgfQ0KDQogICAgY2xhc3MgQWN0aXZhdGlvbkNhbGN1bGF0b3Igew0KICAgICAgICA8PGludGVyZmFjZT4+DQogICAgICAgICtBY3RpdmF0aW9uKHdlaWdodGVkU3VtIE51bWJlcikgTnVtYmVyDQogICAgICAgICtEZXJpdmF0aXZlKHdlaWdodGVkU3VtIE51bWJlcikgTnVtYmVyDQogICAgfQ0KDQogICAgY2xhc3MgUHJvY2Vzc29yflR+IHsNCiAgICAgICAgPDxpbnRlcmZhY2U+Pg0KICAgICAgICArRmVlZEZvcndhcmQobmV0d29yayAqTmV0d29yaywgZGF0YXNldCBEYXRhc2V0KSBbXUNvbnRleHR+VH4NCiAgICAgICAgK0JhY2tQcm9wYWdhdGUoY29udGV4dHMgW11Db250ZXh0flR+LCBsYWJlbHMgW11MYWJlbHMpIEFkanVzdG1lbnRzDQogICAgfQ0KDQogICAgY2xhc3MgR29udW1Qcm9jZXNzb3Igew0KICAgICAgICArQWN0aXZhdGlvbih3ZWlnaHRlZFN1bSBOdW1iZXIpIE51bWJlcg0KICAgICAgICArRGVyaXZhdGl2ZSh3ZWlnaHRlZFN1bSBOdW1iZXIpIE51bWJlcg0KICAgICAgICArRmVlZEZvcndhcmQobmV0d29yayAqTmV0d29yaywgZGF0YXNldCBEYXRhc2V0KSBbXUNvbnRleHR+Q29udGV4dERhdGF+DQogICAgICAgICtCYWNrUHJvcGFnYXRlKGNvbnRleHRzIFtdQ29udGV4dH5Db250ZXh0RGF0YX4sIGxhYmVscyBbXUxhYmVscykgQWRqdXN0bWVudHMNCiAgICB9DQoNCiAgICBjbGFzcyBBcHB+VH4gew0KICAgICAgICAtbmV0d29yayAqTmV0d29yaw0KICAgICAgICAtcHJvY2Vzc29yIFByb2Nlc3Nvcn5Ufg0KICAgICAgICAtZGF0YXNldCBEYXRhc2V0DQogICAgICAgIC1sYWJlbHMgW11MYWJlbHMNCiAgICAgICAgK1RyYWluKGVwb2NocyBpbnQpIGVycm9yDQogICAgICAgIC1jcmVhdGVNaW5pQmF0Y2goKSAoRGF0YXNldCwgW11MYWJlbHMpDQogICAgICAgIC11cGRhdGVOZXR3b3JrKGFkanVzdG1lbnRzIEFkanVzdG1lbnRzLCBsZWFybmluZ1JhdGUgTnVtYmVyKSBlcnJvcg0KICAgICAgICAtdXBkYXRlTGVhcm5pbmdSYXRlKGN1cnJlbnRSYXRlIE51bWJlciwgZXBvY2ggaW50KSBOdW1iZXINCiAgICAgICAgK1ByZWRpY3QoaW5wdXQgRGF0YSkgTGF5ZXJBY3RpdmF0aW9ucw0KICAgIH0NCg0KICAgIE5ldXJvbiAtLSogTGF5ZXINCiAgICBDb25uZWN0aW9uIC0tbyBOZXR3b3JrDQogICAgTGF5ZXIgLS0qIE5ldHdvcmsNCiAgICBBY3RpdmF0aW9uQ2FsY3VsYXRvciA8fC4uIEdvbnVtUHJvY2Vzc29yDQogICAgUHJvY2Vzc29yIDx8Li4gR29udW1Qcm9jZXNzb3INCiAgICBQcm9jZXNzb3IgLS1vIEFwcA0KICAgIE5ldHdvcmsgLS1vIEFwcA==\"/>"
      ],
      "text/plain": [
       "<IPython.core.display.Image object>"
      ]
     },
     "metadata": {},
     "output_type": "display_data"
    }
   ],
   "source": [
    "import marmaid\n",
    "\n",
    "marmaid.display_file(\"docs/digitguesser/uml.mmd\")"
   ]
  },
  {
   "cell_type": "markdown",
   "metadata": {},
   "source": [
    "## 2. わかったこと\n",
    "\n",
    "- 手書き文字を 80%程度の精度で予測できるモデルができた\n",
    "- 層を増やしても精度が上がらないことがわかった\n",
    "- 普遍近似定理により隠れ層が一つでもシグモイド関数を使用すると任意の連続関数を妥当な精度で近似できることが示されていることがわかった\n",
    "- 最初に決めた Network の構造が処理に対して全く最適化されていないことがわかった\n",
    "- 最適化を行うためには、ネットワークをプロセッサと同様のインターフェースにして、cuDNN の tensor 等の外部サービスを依存性注入できるようにする方が良いとわかった\n"
   ]
  }
 ],
 "metadata": {
  "kernelspec": {
   "display_name": ".venv",
   "language": "python",
   "name": "python3"
  },
  "language_info": {
   "codemirror_mode": {
    "name": "ipython",
    "version": 3
   },
   "file_extension": ".py",
   "mimetype": "text/x-python",
   "name": "python",
   "nbconvert_exporter": "python",
   "pygments_lexer": "ipython3",
   "version": "3.12.0"
  }
 },
 "nbformat": 4,
 "nbformat_minor": 2
}
