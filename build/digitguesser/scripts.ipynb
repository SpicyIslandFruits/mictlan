{
 "cells": [
  {
   "cell_type": "code",
   "execution_count": 1,
   "id": "initial_id",
   "metadata": {
    "ExecuteTime": {
     "end_time": "2024-07-09T03:46:54.919045Z",
     "start_time": "2024-07-09T03:46:54.469854Z"
    },
    "collapsed": true
   },
   "outputs": [
    {
     "name": "stdout",
     "output_type": "stream",
     "text": [
      "Directory not found: /home/john/Repositories/mictlan/../pkg/ann\n",
      "Directory not found: /home/john/Repositories/mictlan/../gonum\n",
      "Directory not found: /home/john/Repositories/mictlan/../internal/digitguesser\n",
      "Directory not found: /home/john/Repositories/mictlan/../cmd/digitguesser\n"
     ]
    }
   ],
   "source": [
    "# claudeのcontextに貼れるようにannのファイルを全部出力\n",
    "\n",
    "import os\n",
    "\n",
    "\n",
    "def print_go_files(directory):\n",
    "    current_dir = os.getcwd()\n",
    "    target_dir = os.path.join(current_dir, directory)\n",
    "\n",
    "    if not os.path.exists(target_dir):\n",
    "        print(f\"Directory not found: {target_dir}\")\n",
    "        return\n",
    "\n",
    "    os.chdir(target_dir)\n",
    "\n",
    "    for file in os.listdir('.'):\n",
    "        if file.endswith('.go'):\n",
    "            print(f\"# {file}\")\n",
    "            with open(file, 'r', encoding='utf-8') as f:\n",
    "                print(f.read())\n",
    "            print()\n",
    "\n",
    "    os.chdir(current_dir)\n",
    "\n",
    "\n",
    "# List of directories to process\n",
    "directories = [\n",
    "    \"../pkg/ann\",\n",
    "    \"../gonum\",\n",
    "    \"../internal/digitguesser\",\n",
    "    \"../cmd/digitguesser\"\n",
    "]\n",
    "\n",
    "# Process each directory\n",
    "for directory in directories:\n",
    "    print_go_files(directory)"
   ]
  }
 ],
 "metadata": {
  "kernelspec": {
   "display_name": "Python 3",
   "language": "python",
   "name": "python3"
  },
  "language_info": {
   "codemirror_mode": {
    "name": "ipython",
    "version": 3
   },
   "file_extension": ".py",
   "mimetype": "text/x-python",
   "name": "python",
   "nbconvert_exporter": "python",
   "pygments_lexer": "ipython3",
   "version": "3.10.12"
  }
 },
 "nbformat": 4,
 "nbformat_minor": 5
}
