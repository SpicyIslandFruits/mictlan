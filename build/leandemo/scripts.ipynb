{
 "cells": [
  {
   "cell_type": "code",
   "execution_count": 1,
   "metadata": {},
   "outputs": [
    {
     "name": "stdout",
     "output_type": "stream",
     "text": [
      "Build completed successfully.(+ 0 more)\u001b[2K\n"
     ]
    }
   ],
   "source": [
    "!lake build leandemo"
   ]
  },
  {
   "cell_type": "code",
   "execution_count": 2,
   "metadata": {},
   "outputs": [
    {
     "name": "stdout",
     "output_type": "stream",
     "text": [
      "Attempting to download 4849 file(s)lease\u001b[2K\n",
      "Downloaded: 4849 file(s) [attempted 4849/4849 = 100%] (100% success)\n",
      "Decompressing 4849 file(s)\n",
      "Unpacked in 11580 ms\n",
      "Completed successfully!\n",
      "\u001b[1;34minfo:\u001b[m mathlib: updating repository '././.lake/packages/mathlib' to revision 'bbbb785d9743aa60536df8ebdeacfc9108592021'\n",
      "\u001b[1;34minfo:\u001b[m batteries: updating repository '././.lake/packages/batteries' to revision 'd2b1546c5fc05a06426e3f6ee1cb020e71be5592'\n",
      "\u001b[1;34minfo:\u001b[m Qq: updating repository '././.lake/packages/Qq' to revision '01ad33937acd996ee99eb74eefb39845e4e4b9f5'\n",
      "\u001b[1;34minfo:\u001b[m mathlib: running post-update hooks\n"
     ]
    }
   ],
   "source": [
    "!lake update"
   ]
  }
 ],
 "metadata": {
  "kernelspec": {
   "display_name": "venv",
   "language": "python",
   "name": "python3"
  },
  "language_info": {
   "codemirror_mode": {
    "name": "ipython",
    "version": 3
   },
   "file_extension": ".py",
   "mimetype": "text/x-python",
   "name": "python",
   "nbconvert_exporter": "python",
   "pygments_lexer": "ipython3",
   "version": "3.10.12"
  }
 },
 "nbformat": 4,
 "nbformat_minor": 2
}
