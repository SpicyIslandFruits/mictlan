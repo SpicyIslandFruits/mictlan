{
 "cells": [
  {
   "cell_type": "code",
   "execution_count": 1,
   "metadata": {},
   "outputs": [
    {
     "name": "stdout",
     "output_type": "stream",
     "text": [
      "Build completed successfully.[2K\u001b[2K\n"
     ]
    }
   ],
   "source": [
    "!lake build leandemo"
   ]
  },
  {
   "cell_type": "code",
   "execution_count": 2,
   "metadata": {},
   "outputs": [
    {
     "name": "stdout",
     "output_type": "stream",
     "text": [
      "Attempting to download 3855 file(s)lease\u001b[2K\n",
      "Downloaded: 3855 file(s) [attempted 3855/3855 = 100%] (100% success)\n",
      "Decompressing 4840 file(s)\n",
      "Unpacked in 10275 ms\n",
      "Completed successfully!\n",
      "\u001b[1;34minfo:\u001b[m mathlib: updating repository '././.lake/packages/mathlib' to revision '3cd501d4f4d7538918e848379e4aa6cd0c761e2f'\n",
      "\u001b[1;34minfo:\u001b[m mathlib: running post-update hooks\n"
     ]
    }
   ],
   "source": [
    "!lake update"
   ]
  }
 ],
 "metadata": {
  "kernelspec": {
   "display_name": "venv",
   "language": "python",
   "name": "python3"
  },
  "language_info": {
   "codemirror_mode": {
    "name": "ipython",
    "version": 3
   },
   "file_extension": ".py",
   "mimetype": "text/x-python",
   "name": "python",
   "nbconvert_exporter": "python",
   "pygments_lexer": "ipython3",
   "version": "3.10.12"
  }
 },
 "nbformat": 4,
 "nbformat_minor": 2
}
